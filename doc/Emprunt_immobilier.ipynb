{
 "metadata": {
  "name": "",
  "signature": "sha256:01aa51214f2070bd66b46fa296cc1bc595392f13b6a33584ac81b61d6fa08f57"
 },
 "nbformat": 3,
 "nbformat_minor": 0,
 "worksheets": [
  {
   "cells": [
    {
     "cell_type": "heading",
     "level": 1,
     "metadata": {},
     "source": [
      "Emprunt immobilier"
     ]
    },
    {
     "cell_type": "markdown",
     "metadata": {},
     "source": [
      "Petits calculs et graphiques. Pierre H., novembre 2014\n",
      "\n",
      "sources :\n",
      "    \n",
      "\n",
      "* Amortissement de pr\u00eat : http://fr.wikipedia.org/wiki/Amortissement_%28finance%29\n",
      "* Calcul d'amortissement sur *Wolfram Alpha* : http://www.wolframalpha.com/input/?i=house+loan+%E2%82%AC200000++20+yr+3%25"
     ]
    },
    {
     "cell_type": "code",
     "collapsed": false,
     "input": [
      "import numpy as np\n",
      "import matplotlib.pyplot as plt\n",
      "%matplotlib inline"
     ],
     "language": "python",
     "metadata": {},
     "outputs": [],
     "prompt_number": 1
    },
    {
     "cell_type": "code",
     "collapsed": false,
     "input": [
      "from IPython.html.widgets import interact"
     ],
     "language": "python",
     "metadata": {},
     "outputs": [],
     "prompt_number": 2
    },
    {
     "cell_type": "code",
     "collapsed": false,
     "input": [
      "prix_appart = 220 # k\u20ac\n",
      "travaux = 20 # k\u20ac\n",
      "notaire = 7.2e-2 * prix_appart\n",
      "demenagement = 3\n",
      "total_invest= prix_appart + travaux + notaire + demenagement\n",
      "total_invest"
     ],
     "language": "python",
     "metadata": {},
     "outputs": [
      {
       "metadata": {},
       "output_type": "pyout",
       "prompt_number": 32,
       "text": [
        "258.84000000000003"
       ]
      }
     ],
     "prompt_number": 32
    },
    {
     "cell_type": "code",
     "collapsed": false,
     "input": [
      "apport = 60\n",
      "emprunt = total_invest - apport\n",
      "emprunt"
     ],
     "language": "python",
     "metadata": {},
     "outputs": [
      {
       "metadata": {},
       "output_type": "pyout",
       "prompt_number": 33,
       "text": [
        "198.84000000000003"
       ]
      }
     ],
     "prompt_number": 33
    },
    {
     "cell_type": "markdown",
     "metadata": {},
     "source": [
      "Emprunt : 200 k\u20ac"
     ]
    },
    {
     "cell_type": "heading",
     "level": 3,
     "metadata": {},
     "source": [
      "Assurance"
     ]
    },
    {
     "cell_type": "code",
     "collapsed": false,
     "input": [
      "taux_assur_annuel = 0.243e-2*2\n",
      "emprunt*taux_assur_annuel*1e3/12."
     ],
     "language": "python",
     "metadata": {},
     "outputs": [
      {
       "metadata": {},
       "output_type": "pyout",
       "prompt_number": 41,
       "text": [
        "80.53020000000001"
       ]
      }
     ],
     "prompt_number": 41
    },
    {
     "cell_type": "markdown",
     "metadata": {},
     "source": [
      "Co\u00fbt de l'assurance sur 20 ans"
     ]
    },
    {
     "cell_type": "code",
     "collapsed": false,
     "input": [
      "emprunt*taux_assur_annuel*1e3 * 20"
     ],
     "language": "python",
     "metadata": {},
     "outputs": [
      {
       "metadata": {},
       "output_type": "pyout",
       "prompt_number": 43,
       "text": [
        "19327.248000000003"
       ]
      }
     ],
     "prompt_number": 43
    },
    {
     "cell_type": "heading",
     "level": 2,
     "metadata": {},
     "source": [
      "Calcul des mensualit\u00e9s"
     ]
    },
    {
     "cell_type": "markdown",
     "metadata": {},
     "source": [
      "*\u00e0 capital, dur\u00e9e et taux fix\u00e9s*"
     ]
    },
    {
     "cell_type": "heading",
     "level": 3,
     "metadata": {},
     "source": [
      "Th\u00e9orie : Amortissement d'un pr\u00eat \u00e0 taux fixe et \u00e0 mensualit\u00e9s constantes"
     ]
    },
    {
     "cell_type": "markdown",
     "metadata": {},
     "source": [
      "cf. [Wikipedia - Amortissement](http://fr.wikipedia.org/wiki/Amortissement_%28finance%29#Amortissement_d.27un_pr.C3.AAt_.C3.A0_taux_fixe_et_.C3.A0_mensualit.C3.A9s_constantes)\n",
      "\n",
      "Il est ais\u00e9 d'\u00e9tablir la formule donnant la mensualit\u00e9 $M$ de remboursement d'un pr\u00eat d'un montant (ou capital) not\u00e9 $K$ effectu\u00e9 \u00e0 un taux d'int\u00e9r\u00eat fixe annuel $T$ pendant $n$ mensualit\u00e9s. Le taux mensuel est donn\u00e9 par $r=T/12$, et le capital restant d\u00fb apr\u00e8s *i* mensualit\u00e9s $i=1,...,n$ est not\u00e9 $K_i$. Par d\u00e9finition, $K_n = 0$ puisque apr\u00e8s le paiement de la *n*-i\u00e8me et derni\u00e8re mensualit\u00e9s le pr\u00eat est totalement rembours\u00e9. \n",
      "\n",
      "* Apr\u00e8s la premi\u00e8re mensualit\u00e9 il est \u00e9vident que $K_1=K(1+r)-M$.\n",
      "* Apr\u00e8s la seconde mensualit\u00e9 $K_2=K_1(1+r)-M$ soit $K_2=K(1+r)^2-M(1+r)-M$.\n",
      "* Apr\u00e8s la troisi\u00e8me mensualit\u00e9 $K_3=K_2(1+r)-M=K(1+r)^3-M(1+r)^2-M(1+r)-M$.\n",
      "* ........\n",
      "\n",
      "Il est facile de g\u00e9n\u00e9raliser le raisonnement \u00e0 la *n*-i\u00e8me et derni\u00e8re mensualit\u00e9, il vient $K_n=K(1+r)^n-M\\sum_{k=0}^{n-1}{(1+r)^k}$. \n",
      "Comme $K_n=0$ et que $\\sum_{k=0}^{n-1}{(1+r)^k}=\\frac{(1+r)^n-1}{r}$, puisqu'il s'agit de la somme des $n$ premiers termes d'une *suite g\u00e9om\u00e9trique* de raison $(1+r)$ et de premier terme 1, il vient finalement la formule :\n",
      "\n",
      "$$M=K\\frac{r(1+r)^n}{(1+r)^n-1},$$\n",
      "\n",
      "souvent mise sous la forme suivante :\n",
      "\n",
      "$$M=K\\frac{r}{1-(1+r)^{-n}}.$$\n",
      "\n",
      "Il est facile de v\u00e9rifier en utilisant la r\u00e8gle de L'H\u00f4pital que\n",
      "$\\lim_{r\\rightarrow 0^+} \\frac{r}{1-(1+r)^{-n}} = \\lim_{r\\rightarrow 0^+}  \\frac{1}{n(1+r)^{-n-1}}=\\frac{1}{n}$, et par suite dans le cas d'un taux d'int\u00e9r\u00eat nul la formule pr\u00e9c\u00e9dente se r\u00e9duit bien \u00e0 $M=K/n$, ce qui est attendu."
     ]
    },
    {
     "cell_type": "heading",
     "level": 3,
     "metadata": {},
     "source": [
      "Calcul"
     ]
    },
    {
     "cell_type": "code",
     "collapsed": false,
     "input": [
      "def mensual(K,T,y):\n",
      "    r = T/12\n",
      "    n = y*12\n",
      "    M = K*r/(1-1/(1+r)**n)\n",
      "    M = M + K*taux_assur_annuel/12\n",
      "    return M"
     ],
     "language": "python",
     "metadata": {},
     "outputs": [],
     "prompt_number": 44
    },
    {
     "cell_type": "code",
     "collapsed": false,
     "input": [
      "mensual(200e3, 0.03, 20)"
     ],
     "language": "python",
     "metadata": {},
     "outputs": [
      {
       "metadata": {},
       "output_type": "pyout",
       "prompt_number": 45,
       "text": [
        "1190.1951957078413"
       ]
      }
     ],
     "prompt_number": 45
    },
    {
     "cell_type": "code",
     "collapsed": false,
     "input": [
      "@interact(K_thousand=(100,300),\n",
      "          T_percent=(2.0,4.0),\n",
      "          y=(10,30))\n",
      "def print_mensual(K_thousand=200, T_percent=3.0, y=18):\n",
      "    M = mensual(K_thousand*1000, T_percent/100, y)\n",
      "    print('Mensualit\u00e9 : {:.0f} \u20ac/mois (avec assurance)'.format(M))"
     ],
     "language": "python",
     "metadata": {},
     "outputs": [
      {
       "output_type": "stream",
       "stream": "stdout",
       "text": [
        "Mensualit\u00e9 : 1280 \u20ac/mois (avec assurance)\n"
       ]
      }
     ],
     "prompt_number": 47
    },
    {
     "cell_type": "heading",
     "level": 3,
     "metadata": {},
     "source": [
      "Graphique Mensualit\u00e9 = f(Capital)"
     ]
    },
    {
     "cell_type": "markdown",
     "metadata": {},
     "source": [
      "*\u00e0 dur\u00e9e et taux fix\u00e9s*"
     ]
    },
    {
     "cell_type": "code",
     "collapsed": false,
     "input": [
      "K_min, K_max = 150, 250 # k\u20ac\n",
      "M_min, M_max = 800, 1500 # \u20ac/mois\n",
      "\n",
      "@interact(T_percent=(2.0,4.0),\n",
      "          y=(10,30))\n",
      "def plot_mensual(T_percent=3.0, y=20):\n",
      "    K = np.linspace(K_min*1e3, K_max*1e3, 100)\n",
      "    M = mensual(K, T_percent/100, y)\n",
      "    plt.plot(K/1e3, M)\n",
      "    ax = plt.gca()\n",
      "    ax.set(xlabel=u'Capital (k\u20ac)',\n",
      "           ylabel=u'Mensualit\u00e9s (\u20ac)', ylim=(M_min, M_max),\n",
      "           title=u'Emprunt \u00e0 {:.2f}% sur {:.0f} ans'.format(T_percent, y));"
     ],
     "language": "python",
     "metadata": {},
     "outputs": [
      {
       "metadata": {},
       "output_type": "display_data",
       "png": "[encoded data removed]",
       "text": [
        "<matplotlib.figure.Figure at 0x7ffa35dfd450>"
       ]
      }
     ],
     "prompt_number": 48
    },
    {
     "cell_type": "heading",
     "level": 3,
     "metadata": {},
     "source": [
      "Graphique Mensualit\u00e9 = f(Dur\u00e9e)"
     ]
    },
    {
     "cell_type": "markdown",
     "metadata": {},
     "source": [
      "*\u00e0 capital et taux fix\u00e9s*"
     ]
    },
    {
     "cell_type": "code",
     "collapsed": false,
     "input": [
      "M_wish = 1300 # \u20ac/mois"
     ],
     "language": "python",
     "metadata": {},
     "outputs": [],
     "prompt_number": 49
    },
    {
     "cell_type": "code",
     "collapsed": false,
     "input": [
      "M_min, M_max = 800, 1500 # \u20ac/mois\n",
      "y_min, y_max = 15, 25 # ann\u00e9es\n",
      "\n",
      "@interact(K_thousand=(100,300),\n",
      "          T_percent=(2.0,4.0))\n",
      "def plot_mensual(K_thousand=200, T_percent=3.0, T_model=False):\n",
      "    y = np.linspace(y_min, y_max, 100)\n",
      "    if T_model:\n",
      "        T_percent = y*a+b\n",
      "    M = mensual(K_thousand*1000, T_percent/100, y)\n",
      "    plt.plot(y, M)\n",
      "    plt.hlines(M_wish, y[0], y[-1],\n",
      "               colors='r', linestyles='dashed')\n",
      "    ax = plt.gca()\n",
      "    ax.set(xlabel=u'Dur\u00e9e (ann\u00e9es)',\n",
      "           ylabel=u'Mensualit\u00e9s (\u20ac)', ylim=(M_min, M_max),\n",
      "           #title=u'Emprunt de {:.0f} k\u20ac \u00e0 {:.2f}%'.format(K_thousand, T_percent)\n",
      "           );"
     ],
     "language": "python",
     "metadata": {},
     "outputs": [
      {
       "metadata": {},
       "output_type": "display_data",
       "png": "[encoded data removed]",
       "text": [
        "<matplotlib.figure.Figure at 0x7ffa35dce090>"
       ]
      }
     ],
     "prompt_number": 55
    },
    {
     "cell_type": "heading",
     "level": 3,
     "metadata": {},
     "source": [
      "Am\u00e9lioration possible : taux d\u00e9pendant de la dur\u00e9e"
     ]
    },
    {
     "cell_type": "markdown",
     "metadata": {},
     "source": [
      "prendre en compte que le taux d\u00e9pend de la dur\u00e9e : $T = f(n)$\n",
      "\n",
      "\u2192 exemple issu du simulateur de la Soci\u00e9t\u00e9 G\u00e9n\u00e9rale https://particuliers.societegenerale.fr/emprunter/prets-immobiliers/prets-bancaires/pret-taux-fixe.html\n",
      "\n",
      "Voir aussi le tableau sur  http://www.cyberpret.com/pret-immobilier-taux-fixe.html"
     ]
    },
    {
     "cell_type": "code",
     "collapsed": false,
     "input": [
      "# collected on 2014-11-06\n",
      "year_rate = np.array([\n",
      "    [11,2.25],\n",
      "    [12,2.25],\n",
      "    [13,2.40],\n",
      "    [15,2.40],\n",
      "    [16,2.65],\n",
      "    [17,2.65],\n",
      "    [18,2.75],\n",
      "    [20,2.75],\n",
      "    [21,2.95],\n",
      "    [25,2.95],\n",
      "    [26,3.30],\n",
      "    [30,3.30],\n",
      "])"
     ],
     "language": "python",
     "metadata": {},
     "outputs": [],
     "prompt_number": 51
    },
    {
     "cell_type": "code",
     "collapsed": false,
     "input": [
      "a = 0.065 # %/an\n",
      "b = 1.6 # %\n",
      "\n",
      "plt.plot(year_rate[:,0], year_rate[:,1], 'd-')\n",
      "plt.plot(year_rate[:,0], year_rate[:,0]*a+b, '--', label='model T = {:.2f} + {:.2f}*y'.format(a,b))\n",
      "\n",
      "plt.legend(loc='lower right')\n",
      "ax = plt.gca()\n",
      "ax.set(xlabel='duration (yr)', ylabel='rate (%)', ylim=(2.2, 3.4));"
     ],
     "language": "python",
     "metadata": {},
     "outputs": [
      {
       "metadata": {},
       "output_type": "display_data",
       "png": "[encoded data removed]",
       "text": [
        "<matplotlib.figure.Figure at 0x7ffa35de5390>"
       ]
      }
     ],
     "prompt_number": 52
    },
    {
     "cell_type": "heading",
     "level": 2,
     "metadata": {},
     "source": [
      "Calcul de la dur\u00e9e"
     ]
    },
    {
     "cell_type": "markdown",
     "metadata": {},
     "source": [
      "*dur\u00e9e, \u00e0 capital, mensualit\u00e9s et taux fix\u00e9s*"
     ]
    },
    {
     "cell_type": "code",
     "collapsed": false,
     "input": [
      "from numpy import log"
     ],
     "language": "python",
     "metadata": {},
     "outputs": [],
     "prompt_number": 56
    },
    {
     "cell_type": "code",
     "collapsed": false,
     "input": [
      "def duration(K,T,M):\n",
      "    # Assurance:\n",
      "    M = M - K*taux_assur_annuel/12\n",
      "    r = T/12\n",
      "    n = log(M/(M-K*r))/log(1+r)\n",
      "    y = n/12.\n",
      "    return y"
     ],
     "language": "python",
     "metadata": {},
     "outputs": [],
     "prompt_number": 61
    },
    {
     "cell_type": "code",
     "collapsed": false,
     "input": [
      "duration(220e3, 0.03, 1309.2) # exemple BNP"
     ],
     "language": "python",
     "metadata": {},
     "outputs": [
      {
       "metadata": {},
       "output_type": "pyout",
       "prompt_number": 64,
       "text": [
        "20.000330376992522"
       ]
      }
     ],
     "prompt_number": 64
    },
    {
     "cell_type": "code",
     "collapsed": false,
     "input": [
      "@interact(K_thousand=(100,300),\n",
      "          T_percent=(2.0,4.0),\n",
      "          M=(800,1600))\n",
      "def print_duration(K_thousand=200, T_percent=3.0, M=1300):\n",
      "    y = duration(K_thousand*1000, T_percent/100, M)\n",
      "    print('Dur\u00e9e de remboursement : {:.1f} ann\u00e9es'.format(y))"
     ],
     "language": "python",
     "metadata": {},
     "outputs": [
      {
       "output_type": "stream",
       "stream": "stdout",
       "text": [
        "Dur\u00e9e de remboursement : 17.6 ann\u00e9es\n"
       ]
      }
     ],
     "prompt_number": 67
    },
    {
     "cell_type": "heading",
     "level": 3,
     "metadata": {},
     "source": [
      "Graphique Capital = f(Dur\u00e9e)"
     ]
    },
    {
     "cell_type": "markdown",
     "metadata": {},
     "source": [
      "*\u00e0 taux et mensualit\u00e9s fix\u00e9s*"
     ]
    },
    {
     "cell_type": "code",
     "collapsed": false,
     "input": [
      "K_min, K_max = 150, 250 # k\u20ac\n",
      "y_min, y_max = 13, 23 # ann\u00e9es\n",
      "\n",
      "@interact(T_percent=(2.0,4.0),\n",
      "          M=(800,1600))\n",
      "def plot_capital(T_percent=3.0, M=1300):\n",
      "    K = np.linspace(K_min*1e3, K_max*1e3, 100)\n",
      "    y = duration(K,T_percent/100,M)\n",
      "    plt.plot(y,K/1000)\n",
      "    ax = plt.gca()\n",
      "    ax.set(xlabel=u'Dur\u00e9e (ann\u00e9es)', xlim=(y_min, y_max),\n",
      "           ylabel=u'Capital (k\u20ac)', ylim=(K_min, K_max),\n",
      "           title=u'Emprunt \u00e0 {:.2f}% pour {:.0f}\u20ac/mois'.format(T_percent, M));"
     ],
     "language": "python",
     "metadata": {},
     "outputs": [
      {
       "metadata": {},
       "output_type": "display_data",
       "png": "[encoded data removed]",
       "text": [
        "<matplotlib.figure.Figure at 0x7ffa35d49c90>"
       ]
      }
     ],
     "prompt_number": 70
    }
   ],
   "metadata": {}
  }
 ]
}